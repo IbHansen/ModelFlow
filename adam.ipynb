{
 "cells": [
  {
   "cell_type": "markdown",
   "metadata": {
    "slideshow": {
     "slide_type": "slide"
    }
   },
   "source": [
    "# Run ADAM \n",
    "\n",
    "The model ADAM (Annual Danish Aggregate Model)is a model of the Danish\n",
    "economy maintained and developed by Danmarks Statistik.  A Link to the model: (https://www.dst.dk/pubomtale/18836). It has 4624 equations \n",
    "\n",
    "Danmarks Statistik has kindly provided the model version JUN17X and an associated databank for this demo. \n",
    "\n",
    "The model and databank is not the current model and forecast, but serves as an example. \n",
    "\n",
    "This is a basic demo. However you can use all the features of ModelFlow to manipulate the model.  "
   ]
  },
  {
   "cell_type": "markdown",
   "metadata": {
    "slideshow": {
     "slide_type": "slide"
    }
   },
   "source": [
    "## Import ModelFlow and Pandas"
   ]
  },
  {
   "cell_type": "code",
   "execution_count": null,
   "metadata": {
    "slideshow": {
     "slide_type": "-"
    }
   },
   "outputs": [],
   "source": [
    "import pandas as pd\n",
    "\n",
    "from modelsandbox import newmodel\n",
    "from modelclass import model "
   ]
  },
  {
   "cell_type": "markdown",
   "metadata": {
    "slideshow": {
     "slide_type": "slide"
    }
   },
   "source": [
    "## Read model and Bank "
   ]
  },
  {
   "cell_type": "code",
   "execution_count": null,
   "metadata": {
    "slideshow": {
     "slide_type": "-"
    }
   },
   "outputs": [],
   "source": [
    "bank  = pd.read_pickle('lang100_2017.pc') \n",
    "fadam = open('jul17x.txt','rt').read()"
   ]
  },
  {
   "cell_type": "markdown",
   "metadata": {
    "slideshow": {
     "slide_type": "slide"
    }
   },
   "source": [
    "## Make a model instance "
   ]
  },
  {
   "cell_type": "code",
   "execution_count": null,
   "metadata": {},
   "outputs": [],
   "source": [
    "turbo = 0     # if you set turbo=1 the model will be compiled, it takes time but specd the running up \n",
    "madam = newmodel(fadam)    \n",
    "madam.use_preorder = True  # for speedup "
   ]
  },
  {
   "cell_type": "markdown",
   "metadata": {
    "slideshow": {
     "slide_type": "slide"
    }
   },
   "source": [
    "## Run the Baseline "
   ]
  },
  {
   "cell_type": "code",
   "execution_count": null,
   "metadata": {},
   "outputs": [],
   "source": [
    "grund = madam(bank,2018,2030,conv=['YR','UL'],antal=100,alfa=0.4,ljit=turbo,chunk=30,silent=True,debug=0)"
   ]
  },
  {
   "cell_type": "markdown",
   "metadata": {
    "slideshow": {
     "slide_type": "slide"
    }
   },
   "source": [
    "## Make an experiment and run the model "
   ]
  },
  {
   "cell_type": "code",
   "execution_count": null,
   "metadata": {},
   "outputs": [],
   "source": [
    "mulstart =grund.copy()\n",
    "mulstart.TG = grund.TG+0.02\n",
    "mul = madam(mulstart,conv=['YR','UL'],antal=100,alfa=0.5,ljit=turbo,chunk=30,relconv = 0.000000001,silent=False,ldump=1)"
   ]
  },
  {
   "cell_type": "markdown",
   "metadata": {
    "slideshow": {
     "slide_type": "slide"
    }
   },
   "source": [
    "## Show the result as numbers\n",
    "\n",
    "We look Balance of payment-ENL , Unemployment-UL, GDP-FY, VAT-TG, Public deficit-TFN_O, and Public deficit in pct.-TFN_OY  "
   ]
  },
  {
   "cell_type": "code",
   "execution_count": null,
   "metadata": {
    "scrolled": true
   },
   "outputs": [],
   "source": [
    "madam[['ENL','ul','fy','tg','TFN_O','TFN_OY']].dif"
   ]
  },
  {
   "cell_type": "markdown",
   "metadata": {
    "slideshow": {
     "slide_type": "slide"
    }
   },
   "source": [
    "## And as plots "
   ]
  },
  {
   "cell_type": "code",
   "execution_count": null,
   "metadata": {},
   "outputs": [],
   "source": [
    "_ =madam[['ENL','ul','fy','TFN_O','TFN_OY']].dif.plot(sharey=False,colrow=1,title='Response')"
   ]
  },
  {
   "cell_type": "markdown",
   "metadata": {
    "slideshow": {
     "slide_type": "slide"
    }
   },
   "source": [
    "## What drives GDP \n",
    "The graph can be small, but if you are using the jupyterlab version, you can inspect it through the PDF file. "
   ]
  },
  {
   "cell_type": "code",
   "execution_count": null,
   "metadata": {},
   "outputs": [],
   "source": [
    "_ = madam.FY.explain(up=1,pdf=1,dec=2)"
   ]
  },
  {
   "cell_type": "markdown",
   "metadata": {
    "slideshow": {
     "slide_type": "skip"
    }
   },
   "source": [
    "## To small ?\n",
    "The previous output can be difficult to read, as it can not be zoomed. \n",
    "\n",
    "However the output is also written to a .pdf file, which can be zoomed. The .pdf file is located at the graph/ subfolder. \n",
    "If you run this notebook in Windows the pdf=1 will trigger an automatic display of the .pdf file. \n",
    "\n",
    "If you are running this notebook on a virtual machine you can access the .pdf file yourself. By: \n",
    "\n",
    " - go to the **Home** tab on the browser. \n",
    " - Click on the graph/ folder. \n",
    " - Either Click on the **FY explained.pdf** file, or if that don't work, download the file to your local machine.  \n",
    " "
   ]
  },
  {
   "cell_type": "markdown",
   "metadata": {
    "slideshow": {
     "slide_type": "skip"
    }
   },
   "source": [
    "##  Uploade  and downloade to the virtual machine.\n",
    "In general you should be able to both upload files from your local machine to the virtual machine, and and to download files from the virtual machine to the local machine.  \n",
    "\n",
    "So even when though the virtual machines disappear you can still get the output to our local machine. And you can modify this notebook and download it for later use. "
   ]
  },
  {
   "cell_type": "markdown",
   "metadata": {
    "slideshow": {
     "slide_type": "slide"
    }
   },
   "source": [
    "## Now try turbo = 1 \n",
    "Edit the cell above where turbo is set to 0 and change it to 1\n",
    "\n",
    "Then run the notebook again. This will trigger a just in time compilation by the NUMBA library. The compilation will take time, but the simulation will be much faster.  "
   ]
  }
 ],
 "metadata": {
  "celltoolbar": "Slideshow",
  "kernelspec": {
   "display_name": "Python 3",
   "language": "python",
   "name": "python3"
  },
  "language_info": {
   "codemirror_mode": {
    "name": "ipython",
    "version": 3
   },
   "file_extension": ".py",
   "mimetype": "text/x-python",
   "name": "python",
   "nbconvert_exporter": "python",
   "pygments_lexer": "ipython3",
   "version": "3.6.4"
  },
  "toc": {
   "base_numbering": 1,
   "nav_menu": {},
   "number_sections": true,
   "sideBar": true,
   "skip_h1_title": false,
   "title_cell": "Table of Contents",
   "title_sidebar": "Contents",
   "toc_cell": false,
   "toc_position": {},
   "toc_section_display": true,
   "toc_window_display": false
  },
  "varInspector": {
   "cols": {
    "lenName": 16,
    "lenType": 16,
    "lenVar": 40
   },
   "kernels_config": {
    "python": {
     "delete_cmd_postfix": "",
     "delete_cmd_prefix": "del ",
     "library": "var_list.py",
     "varRefreshCmd": "print(var_dic_list())"
    },
    "r": {
     "delete_cmd_postfix": ") ",
     "delete_cmd_prefix": "rm(",
     "library": "var_list.r",
     "varRefreshCmd": "cat(var_dic_list()) "
    }
   },
   "oldHeight": 134.43022200000001,
   "position": {
    "height": "40px",
    "left": "1033.67px",
    "right": "20px",
    "top": "238px",
    "width": "612.194px"
   },
   "types_to_exclude": [
    "module",
    "function",
    "builtin_function_or_method",
    "instance",
    "_Feature"
   ],
   "varInspector_section_display": "none",
   "window_display": false
  }
 },
 "nbformat": 4,
 "nbformat_minor": 2
}
