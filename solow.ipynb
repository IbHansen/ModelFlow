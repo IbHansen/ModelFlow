{
 "cells": [
  {
   "cell_type": "markdown",
   "metadata": {
    "slideshow": {
     "slide_type": "slide"
    }
   },
   "source": [
    "# A notebook with a simple Solow model "
   ]
  },
  {
   "cell_type": "markdown",
   "metadata": {
    "slideshow": {
     "slide_type": "slide"
    }
   },
   "source": [
    "# Import Python libraries"
   ]
  },
  {
   "cell_type": "code",
   "execution_count": null,
   "metadata": {
    "slideshow": {
     "slide_type": "-"
    }
   },
   "outputs": [],
   "source": [
    "%matplotlib inline\n",
    "import pandas as pd\n",
    "import  ipywidgets as widgets\n",
    "from IPython.display import display, clear_output\n",
    "import matplotlib.pylab  as plt \n",
    "import seaborn as sns\n",
    "import qgrid\n",
    "\n",
    "import sys\n",
    "sys.path.append('modelflow/')\n",
    "\n",
    "from modelsandbox import newmodel     \n",
    "from modelmanipulation import explode  "
   ]
  },
  {
   "cell_type": "markdown",
   "metadata": {
    "slideshow": {
     "slide_type": "slide"
    }
   },
   "source": [
    "# Specify the model \n",
    "The explode function will rewrite the business logic."
   ]
  },
  {
   "cell_type": "code",
   "execution_count": null,
   "metadata": {
    "slideshow": {
     "slide_type": "-"
    }
   },
   "outputs": [],
   "source": [
    "fsolow = explode('''\\\n",
    "Y         = a * k**alfa * l **(1-alfa) \n",
    "C         = (1-SAVING_RATIO)  * Y \n",
    "I         = Y - C \n",
    "diff(K)   = I-depreciates_rate * K(-1)\n",
    "diff(l)   = labor_growth * L(-1) \n",
    "K_intense = K/L \n",
    "''')\n",
    "print(fsolow)"
   ]
  },
  {
   "cell_type": "markdown",
   "metadata": {
    "slideshow": {
     "slide_type": "slide"
    }
   },
   "source": [
    "# Create a model class instance"
   ]
  },
  {
   "cell_type": "code",
   "execution_count": null,
   "metadata": {
    "slideshow": {
     "slide_type": "-"
    }
   },
   "outputs": [],
   "source": [
    "msolow = newmodel(fsolow)"
   ]
  },
  {
   "cell_type": "markdown",
   "metadata": {
    "slideshow": {
     "slide_type": "slide"
    }
   },
   "source": [
    "# Show model structure"
   ]
  },
  {
   "cell_type": "code",
   "execution_count": null,
   "metadata": {
    "slideshow": {
     "slide_type": "subslide"
    }
   },
   "outputs": [],
   "source": [
    "msolow.drawmodel(sink = 'K_INTENSE')"
   ]
  },
  {
   "cell_type": "markdown",
   "metadata": {
    "slideshow": {
     "slide_type": "slide"
    }
   },
   "source": [
    "# Show solving structure (only current year)"
   ]
  },
  {
   "cell_type": "code",
   "execution_count": null,
   "metadata": {
    "slideshow": {
     "slide_type": "subslide"
    }
   },
   "outputs": [],
   "source": [
    "msolow.drawendo(sink = 'K_INTENSE',source='L')"
   ]
  },
  {
   "cell_type": "markdown",
   "metadata": {
    "code_folding": [],
    "slideshow": {
     "slide_type": "slide"
    }
   },
   "source": [
    "# Create DataFrame with baseline exogenous "
   ]
  },
  {
   "cell_type": "code",
   "execution_count": null,
   "metadata": {
    "slideshow": {
     "slide_type": "-"
    }
   },
   "outputs": [],
   "source": [
    "N = 30\n",
    "df = pd.DataFrame({'L':[100]*N,'K':[100]*N})\n",
    "df.loc[:,'ALFA'] = 0.5\n",
    "df.loc[:,'A'] = 1.\n",
    "df.loc[:,'DEPRECIATES_RATE'] = 0.05\n",
    "df.loc[:,'LABOR_GROWTH'] = 0.01\n",
    "df.loc[:,'SAVING_RATIO'] = 0.05\n",
    "display(df.head())"
   ]
  },
  {
   "cell_type": "markdown",
   "metadata": {
    "slideshow": {
     "slide_type": "slide"
    }
   },
   "source": [
    "# Run Baseline"
   ]
  },
  {
   "cell_type": "code",
   "execution_count": null,
   "metadata": {
    "slideshow": {
     "slide_type": "-"
    }
   },
   "outputs": [],
   "source": [
    "res1 = msolow(df,antal=100,first_test=10,silent=1)\n",
    "display(res1.head())"
   ]
  },
  {
   "cell_type": "markdown",
   "metadata": {
    "slideshow": {
     "slide_type": "slide"
    }
   },
   "source": [
    "# Create interactive widgets \n",
    "If you are not familiar with Python and Ipywidgets, don't try to understand the code. \n",
    "Just notice that it is fairly short. "
   ]
  },
  {
   "cell_type": "code",
   "execution_count": null,
   "metadata": {
    "code_folding": [
     61
    ],
    "slideshow": {
     "slide_type": "subslide"
    }
   },
   "outputs": [],
   "source": [
    "# Define output widget\n",
    "def vis_alt3(dfs,model,title='Show variables'):\n",
    "    ''' display tabbed widget with results from different dataframes, usuallly 2 but more can be shown'''\n",
    "    avar = dfs[0].columns\n",
    "    outlist =     [widgets.Output() for var in avar]\n",
    "    deplist =     [widgets.Output() for var in avar]\n",
    "    reslist =     [widgets.Output() for var in avar]\n",
    "    attlist =     [widgets.Output() for var in avar]\n",
    "    varouttablist =  [widgets.Tab(children = [out,att,dep,res]) for out,att,dep,res  in zip(outlist,attlist,deplist,reslist)]\n",
    "    for var,varouttab in zip(avar,varouttablist):\n",
    "        for i,tabtext in enumerate(['Graph','Attribution','Dependencies','Results']):\n",
    "            varouttab.set_title(i,tabtext)\n",
    "\n",
    "    controllist = [widgets.VBox([varouttab]) for varouttab in varouttablist]\n",
    "    tab = widgets.Tab(children = controllist)\n",
    "    for i,(var,out) in enumerate(zip(avar,controllist)):\n",
    "        tab.set_title(i, var) \n",
    "    \n",
    "    def test1(b):\n",
    "        sel = b['new']\n",
    "        out = outlist[sel]\n",
    "        dep = deplist[sel]\n",
    "        res = reslist[sel]\n",
    "        att = attlist[sel]\n",
    "        var = avar[sel]\n",
    "        with out:\n",
    "            clear_output()\n",
    "            fig,ax = plt.subplots(figsize=(10,6))\n",
    "            ax.set_title(var,fontsize=14)\n",
    "            for i,df in enumerate(dfs):\n",
    "                data = df.loc[:,var]\n",
    "                data.plot(ax=ax,legend=False,fontsize=14)\n",
    "                x_pos = data.index[-1]\n",
    "                if i == 0:\n",
    "                    basevalue = data.values[-1]\n",
    "                    ax.text(x_pos, data.values[-1],' Baseline',fontsize=14)\n",
    "                else:\n",
    "                    alt=i if len(dfs) >= 3 else ''\n",
    "                    if abs(data.values[-1]/basevalue-1) > 0.01:\n",
    "                        ax.text(x_pos, data.values[-1]  ,f' Alternative{alt}',fontsize=14)\n",
    "                    else:\n",
    "                        ax.text(x_pos, data.values[-1]  ,f'                and Alternative{alt}',fontsize=14)\n",
    "            plt.show(fig)\n",
    "        with dep:\n",
    "            clear_output()\n",
    "            model.draw(var,up=2,down=2,svg=1)\n",
    "        with res:\n",
    "            clear_output()\n",
    "            print(model.get_values(var).T)\n",
    "        with att:\n",
    "            clear_output()\n",
    "          #  old = model.current_per\n",
    "          #  model.smpl(3,29)\n",
    "            print('What explains the difference between the baseline and the alternative run')\n",
    "            print(model.allvar[var]['frml'])\n",
    "            model.explain(var,start=model.current_per[0],end=model.current_per[1],up=0,dec=1,size=(9,12),svg=1,HR=0)\n",
    "         #   model.current_per = old\n",
    "            \n",
    "    display(tab) \n",
    "\n",
    "    test1({'new':0})\n",
    "    tab.observe(test1,'selected_index')\n",
    "    return tab\n",
    "\n",
    "# Define tata extraction\n",
    "def get_alt(mmodel,pat):\n",
    "    ''' Retrieves variables matching pat from a model '''\n",
    "    varnames = mmodel.vlist(pat)\n",
    "    per = mmodel.current_per\n",
    "    return [mmodel.basedf.loc[per,varnames],mmodel.lastdf.loc[per,varnames]]\n",
    ",\n",
    "\n",
    "# Define the imput widget \n",
    "def inputwidget(model,df,wdef={'ALFA':0.5,'DEPRECIATES_RATE':0.05, 'LABOR_GROWTH':0.01, 'SAVING_RATIO':0.05},start_upd = 3):\n",
    "    wexp  = [widgets.Label(value=\"Input new parameter. They will take effect time = 3\")]\n",
    "    wset  = [widgets.FloatSlider(description=var,min=-0.,max=1.,value=value,step=0.01,\n",
    "                                layout={'width':'50%'},style={'description_width':'30%'}) for var,value in wdef.items()]\n",
    "    wgo   = widgets.Button(description=\"Run\")\n",
    "    wreset   = widgets.Button(description=\"Reset to default\")\n",
    "    wbut  = widgets.HBox([wgo,wreset])\n",
    "    w     = widgets.VBox(wexp+wset+[wbut])\n",
    "\n",
    "    # This function is run when the button is clecked \n",
    "    def run(b):\n",
    "        mulstart       = df.copy()\n",
    "        for i,var in enumerate(wdef.keys()):\n",
    "            mulstart.loc[start_upd:,var] =   wset[i].value\n",
    "       # with out:\n",
    "        clear_output()\n",
    "        mul = model(mulstart,conv=['Y','K'],antal=100,alfa=0.5,ljit=0,relconv = 0.000000001,silent=True,ldump=0)\n",
    "        clear_output()\n",
    "        display(w)\n",
    "        a = vis_alt3(get_alt(model,['Y','C','I','K','L','K_INTENSE']),model)\n",
    "\n",
    "    def reset(b):\n",
    "        for i,var in enumerate(wdef.keys()):\n",
    "            wset[i].value  =   wdef[var]\n",
    "\n",
    "\n",
    "    # Assign the function to the button  \n",
    "    wgo.on_click(run)\n",
    "    wreset.on_click(reset)\n",
    "    out = widgets.Output()\n",
    "    \n",
    "    return w"
   ]
  },
  {
   "cell_type": "markdown",
   "metadata": {
    "slideshow": {
     "slide_type": "slide"
    }
   },
   "source": [
    "# Run interactive widget "
   ]
  },
  {
   "cell_type": "code",
   "execution_count": null,
   "metadata": {
    "code_folding": [
     0
    ],
    "slideshow": {
     "slide_type": "subslide"
    }
   },
   "outputs": [],
   "source": [
    "display(inputwidget(msolow,df))      "
   ]
  }
 ],
 "metadata": {
  "kernelspec": {
   "display_name": "Python 3",
   "language": "python",
   "name": "python3"
  },
  "language_info": {
   "codemirror_mode": {
    "name": "ipython",
    "version": 3
   },
   "file_extension": ".py",
   "mimetype": "text/x-python",
   "name": "python",
   "nbconvert_exporter": "python",
   "pygments_lexer": "ipython3",
   "version": "3.6.4"
  },
  "toc": {
   "base_numbering": 1,
   "nav_menu": {},
   "number_sections": true,
   "sideBar": true,
   "skip_h1_title": false,
   "title_cell": "Table of Contents",
   "title_sidebar": "Contents",
   "toc_cell": false,
   "toc_position": {},
   "toc_section_display": true,
   "toc_window_display": false
  },
  "varInspector": {
   "cols": {
    "lenName": 16,
    "lenType": 16,
    "lenVar": 40
   },
   "kernels_config": {
    "python": {
     "delete_cmd_postfix": "",
     "delete_cmd_prefix": "del ",
     "library": "var_list.py",
     "varRefreshCmd": "print(var_dic_list())"
    },
    "r": {
     "delete_cmd_postfix": ") ",
     "delete_cmd_prefix": "rm(",
     "library": "var_list.r",
     "varRefreshCmd": "cat(var_dic_list()) "
    }
   },
   "oldHeight": 122.4,
   "position": {
    "height": "143.68px",
    "left": "945.36px",
    "right": "20px",
    "top": "120px",
    "width": "250px"
   },
   "types_to_exclude": [
    "module",
    "function",
    "builtin_function_or_method",
    "instance",
    "_Feature"
   ],
   "varInspector_section_display": "block",
   "window_display": true
  }
 },
 "nbformat": 4,
 "nbformat_minor": 2
}
