{
 "cells": [
  {
   "cell_type": "markdown",
   "metadata": {
    "slideshow": {
     "slide_type": "slide"
    }
   },
   "source": [
    "This noteboolk  can be shown as a Rise slideshow. Press the Rise tool on the tool-line\n",
    "\n",
    "Show next slide by **space**\n",
    "    \n",
    "Show previous slide be **shift space**\n",
    "    \n",
    "Execute a cell by **shift enter**   "
   ]
  },
  {
   "cell_type": "markdown",
   "metadata": {
    "slideshow": {
     "slide_type": "slide"
    }
   },
   "source": [
    "# Python \n",
    "Python is an incredible and versatile language embedded a powerful ecosystem. For data\n",
    "science \n",
    "the Pandas library is a powerful \"Swiss Army Knife\".\n",
    "\n",
    "However in economic and for modeling banks we need to be able to include **lagged variables**\n",
    "in transformation and to handle **simultaneous formulas** (circular references in Excel speak). "
   ]
  },
  {
   "cell_type": "markdown",
   "metadata": {
    "slideshow": {
     "slide_type": "subslide"
    }
   },
   "source": [
    "**ModelFlow** is a toolkit to enable such features - and much more.\n",
    "\n",
    "This is a Jupyter notebook. Jupyter is a Python Shell \n",
    "\n",
    "You will notice **input cells** (marked:In\\[\\]) and **output cells** (marked: Out\\[\\]) \n",
    "\n",
    "It is live, so you can try it out yourself, if you have access to the\n",
    "ModelFlow toolkit, else you just have to watch.\n",
    "\n",
    "This Jupyter notebook will take you to a tour of how make models with lagged variables in\n",
    "ModelFlow. \n",
    "\n",
    "The notebook focus on a simple example and do not explore all the features and\n",
    "options. Also the models are toy models created to be small but still illustrative."
   ]
  },
  {
   "cell_type": "markdown",
   "metadata": {
    "slideshow": {
     "slide_type": "slide"
    }
   },
   "source": [
    "# Import stuff"
   ]
  },
  {
   "cell_type": "code",
   "execution_count": 1,
   "metadata": {
    "slideshow": {
     "slide_type": "-"
    }
   },
   "outputs": [],
   "source": [
    "import pandas as pd               # Python data science library\n",
    "        \n",
    "import sys                       \n",
    "sys.path.append('modelflow/')      # pont to the ModelFlow library \n",
    "\n",
    "from modelclass import model      # modelclass from ModelFlow "
   ]
  },
  {
   "cell_type": "markdown",
   "metadata": {
    "slideshow": {
     "slide_type": "slide"
    }
   },
   "source": [
    "# Create a Pandas Dataframe\n",
    "We make up some data.\n",
    "\n",
    "Pandas dataframes are tables with **row** and **column** names. Columns are variables, and rows are the time dimension. "
   ]
  },
  {
   "cell_type": "code",
   "execution_count": 2,
   "metadata": {
    "slideshow": {
     "slide_type": "-"
    }
   },
   "outputs": [
    {
     "data": {
      "text/html": [
       "<div>\n",
       "<style scoped>\n",
       "    .dataframe tbody tr th:only-of-type {\n",
       "        vertical-align: middle;\n",
       "    }\n",
       "\n",
       "    .dataframe tbody tr th {\n",
       "        vertical-align: top;\n",
       "    }\n",
       "\n",
       "    .dataframe thead th {\n",
       "        text-align: right;\n",
       "    }\n",
       "</style>\n",
       "<table border=\"1\" class=\"dataframe\">\n",
       "  <thead>\n",
       "    <tr style=\"text-align: right;\">\n",
       "      <th></th>\n",
       "      <th>LOAN</th>\n",
       "      <th>SECURITIES</th>\n",
       "      <th>CASH</th>\n",
       "      <th>DEPOSIT</th>\n",
       "      <th>BONDS</th>\n",
       "      <th>NEW_LOAN</th>\n",
       "    </tr>\n",
       "  </thead>\n",
       "  <tbody>\n",
       "    <tr>\n",
       "      <th>2018</th>\n",
       "      <td>100</td>\n",
       "      <td>10</td>\n",
       "      <td>4</td>\n",
       "      <td>100</td>\n",
       "      <td>1</td>\n",
       "      <td>1</td>\n",
       "    </tr>\n",
       "    <tr>\n",
       "      <th>2019</th>\n",
       "      <td>100</td>\n",
       "      <td>11</td>\n",
       "      <td>4</td>\n",
       "      <td>100</td>\n",
       "      <td>2</td>\n",
       "      <td>20</td>\n",
       "    </tr>\n",
       "    <tr>\n",
       "      <th>2020</th>\n",
       "      <td>100</td>\n",
       "      <td>12</td>\n",
       "      <td>4</td>\n",
       "      <td>100</td>\n",
       "      <td>3</td>\n",
       "      <td>30</td>\n",
       "    </tr>\n",
       "    <tr>\n",
       "      <th>2021</th>\n",
       "      <td>100</td>\n",
       "      <td>13</td>\n",
       "      <td>4</td>\n",
       "      <td>100</td>\n",
       "      <td>4</td>\n",
       "      <td>40</td>\n",
       "    </tr>\n",
       "  </tbody>\n",
       "</table>\n",
       "</div>"
      ],
      "text/plain": [
       "      LOAN  SECURITIES  CASH  DEPOSIT  BONDS  NEW_LOAN\n",
       "2018   100          10     4      100      1         1\n",
       "2019   100          11     4      100      2        20\n",
       "2020   100          12     4      100      3        30\n",
       "2021   100          13     4      100      4        40"
      ]
     },
     "execution_count": 2,
     "metadata": {},
     "output_type": "execute_result"
    }
   ],
   "source": [
    "df = pd.DataFrame({'LOAN': [100,100,100,100],'SECURITIES':[10,11,12,13],\n",
    "                   'CASH':[4,4,4,4],'DEPOSIT': [100,100,100,100],\n",
    "                   'BONDS':[1,2,3,4],'NEW_LOAN':[1,20,30,40] },\n",
    "                  index=[2018,2019,2020,2021])\n",
    "df"
   ]
  },
  {
   "cell_type": "markdown",
   "metadata": {
    "slideshow": {
     "slide_type": "slide"
    }
   },
   "source": [
    "# A simple model. Pandas works fine. \n",
    "The pandas dataframe contains a fast and powerful evaluation method. It will do the transformation on\n",
    "based on columns."
   ]
  },
  {
   "cell_type": "code",
   "execution_count": 3,
   "metadata": {
    "slideshow": {
     "slide_type": "fragment"
    }
   },
   "outputs": [
    {
     "data": {
      "text/html": [
       "<div>\n",
       "<style scoped>\n",
       "    .dataframe tbody tr th:only-of-type {\n",
       "        vertical-align: middle;\n",
       "    }\n",
       "\n",
       "    .dataframe tbody tr th {\n",
       "        vertical-align: top;\n",
       "    }\n",
       "\n",
       "    .dataframe thead th {\n",
       "        text-align: right;\n",
       "    }\n",
       "</style>\n",
       "<table border=\"1\" class=\"dataframe\">\n",
       "  <thead>\n",
       "    <tr style=\"text-align: right;\">\n",
       "      <th></th>\n",
       "      <th>LOAN</th>\n",
       "      <th>SECURITIES</th>\n",
       "      <th>CASH</th>\n",
       "      <th>DEPOSIT</th>\n",
       "      <th>BONDS</th>\n",
       "      <th>NEW_LOAN</th>\n",
       "      <th>ASSETS</th>\n",
       "      <th>FUNDING</th>\n",
       "      <th>EQUITY</th>\n",
       "    </tr>\n",
       "  </thead>\n",
       "  <tbody>\n",
       "    <tr>\n",
       "      <th>2018</th>\n",
       "      <td>100</td>\n",
       "      <td>10</td>\n",
       "      <td>4</td>\n",
       "      <td>100</td>\n",
       "      <td>1</td>\n",
       "      <td>1</td>\n",
       "      <td>114</td>\n",
       "      <td>101</td>\n",
       "      <td>13</td>\n",
       "    </tr>\n",
       "    <tr>\n",
       "      <th>2019</th>\n",
       "      <td>100</td>\n",
       "      <td>11</td>\n",
       "      <td>4</td>\n",
       "      <td>100</td>\n",
       "      <td>2</td>\n",
       "      <td>20</td>\n",
       "      <td>115</td>\n",
       "      <td>102</td>\n",
       "      <td>13</td>\n",
       "    </tr>\n",
       "    <tr>\n",
       "      <th>2020</th>\n",
       "      <td>100</td>\n",
       "      <td>12</td>\n",
       "      <td>4</td>\n",
       "      <td>100</td>\n",
       "      <td>3</td>\n",
       "      <td>30</td>\n",
       "      <td>116</td>\n",
       "      <td>103</td>\n",
       "      <td>13</td>\n",
       "    </tr>\n",
       "    <tr>\n",
       "      <th>2021</th>\n",
       "      <td>100</td>\n",
       "      <td>13</td>\n",
       "      <td>4</td>\n",
       "      <td>100</td>\n",
       "      <td>4</td>\n",
       "      <td>40</td>\n",
       "      <td>117</td>\n",
       "      <td>104</td>\n",
       "      <td>13</td>\n",
       "    </tr>\n",
       "  </tbody>\n",
       "</table>\n",
       "</div>"
      ],
      "text/plain": [
       "      LOAN  SECURITIES  CASH  DEPOSIT  BONDS  NEW_LOAN  ASSETS  FUNDING  \\\n",
       "2018   100          10     4      100      1         1     114      101   \n",
       "2019   100          11     4      100      2        20     115      102   \n",
       "2020   100          12     4      100      3        30     116      103   \n",
       "2021   100          13     4      100      4        40     117      104   \n",
       "\n",
       "      EQUITY  \n",
       "2018      13  \n",
       "2019      13  \n",
       "2020      13  \n",
       "2021      13  "
      ]
     },
     "execution_count": 3,
     "metadata": {},
     "output_type": "execute_result"
    }
   ],
   "source": [
    "df.eval('''\\\n",
    "ASSETS  = LOAN + SECURITIES + CASH\n",
    "FUNDING = DEPOSIT + BONDS\n",
    "EQUITY  = ASSETS - FUNDING ''')"
   ]
  },
  {
   "cell_type": "markdown",
   "metadata": {
    "slideshow": {
     "slide_type": "subslide"
    }
   },
   "source": [
    "# Notice\n",
    "The eval method will calculate each column in one go for all years. This allows it to use vectorization in order to speed up the calculations. \n",
    "\n",
    "However, if we want to make dynamic transformation with lagged variables, we need to calculate each year for all variables and step on the to the next year. \n",
    "\n",
    "Lets take a look. "
   ]
  },
  {
   "cell_type": "markdown",
   "metadata": {
    "slideshow": {
     "slide_type": "slide"
    }
   },
   "source": [
    "# Now a model, where Pandas don't work out of the box \n",
    "We want to introduce a little more dynamic in the model. So we introduce three flows: NEW_LOAN, NEW_DEPOSITS and NEW_BONDS\n",
    "\n",
    "-  NEW_LOAN is added to  LOAN from last year\n",
    "\n",
    "-  NEW_DEPOSITS is added to DEPOSITS from last year\n",
    "\n",
    "-  NEW_BONDS funds new loans not funded by new deposits.\n"
   ]
  },
  {
   "cell_type": "code",
   "execution_count": 4,
   "metadata": {
    "slideshow": {
     "slide_type": "subslide"
    }
   },
   "outputs": [],
   "source": [
    "fmodel = '''\\\n",
    "ASSETS  = LOAN + SECURITIES + CASH\n",
    "FUNDING = DEPOSIT + BONDS\n",
    "EQUITY  = ASSETS - FUNDING  \n",
    "\n",
    "DEPOSIT = DEPOSIT(-1) + NEW_DEPOSIT\n",
    "LOAN = LOAN(-1)+  NEW_LOAN \n",
    "NEW_BONDS =  (NEW_LOAN - NEW_DEPOSIT) \n",
    "BONDS = BONDS(-1) + NEW_BONDS'''"
   ]
  },
  {
   "cell_type": "markdown",
   "metadata": {
    "slideshow": {
     "slide_type": "slide"
    }
   },
   "source": [
    "   \n",
    "To  implement this model, the build-in function **eval** is not suited, as we can't calculate row by row. \n",
    "\n",
    "So we use ModelFlow to create a model instance which can calculate the model. ModelFlow contains a factory called **model** which will create an function (actually a class instance, more on that later), which then can calculate the model.      "
   ]
  },
  {
   "cell_type": "code",
   "execution_count": 5,
   "metadata": {
    "slideshow": {
     "slide_type": "fragment"
    }
   },
   "outputs": [],
   "source": [
    "a_model =model(fmodel)"
   ]
  },
  {
   "cell_type": "markdown",
   "metadata": {
    "slideshow": {
     "slide_type": "slide"
    }
   },
   "source": [
    "# And run an experiment\n",
    "Now we can apply the function to the dataframe, and gets the results."
   ]
  },
  {
   "cell_type": "code",
   "execution_count": 6,
   "metadata": {
    "scrolled": true
   },
   "outputs": [
    {
     "name": "stdout",
     "output_type": "stream",
     "text": [
      "Will start calculating: testmodel\n",
      "2019  solved\n",
      "2020  solved\n",
      "2021  solved\n",
      "testmodel calculated \n"
     ]
    },
    {
     "data": {
      "text/html": [
       "<div>\n",
       "<style scoped>\n",
       "    .dataframe tbody tr th:only-of-type {\n",
       "        vertical-align: middle;\n",
       "    }\n",
       "\n",
       "    .dataframe tbody tr th {\n",
       "        vertical-align: top;\n",
       "    }\n",
       "\n",
       "    .dataframe thead th {\n",
       "        text-align: right;\n",
       "    }\n",
       "</style>\n",
       "<table border=\"1\" class=\"dataframe\">\n",
       "  <thead>\n",
       "    <tr style=\"text-align: right;\">\n",
       "      <th></th>\n",
       "      <th>LOAN</th>\n",
       "      <th>SECURITIES</th>\n",
       "      <th>CASH</th>\n",
       "      <th>DEPOSIT</th>\n",
       "      <th>BONDS</th>\n",
       "      <th>NEW_LOAN</th>\n",
       "      <th>FUNDING</th>\n",
       "      <th>NEW_BONDS</th>\n",
       "      <th>NEW_DEPOSIT</th>\n",
       "      <th>EQUITY</th>\n",
       "      <th>ASSETS</th>\n",
       "    </tr>\n",
       "  </thead>\n",
       "  <tbody>\n",
       "    <tr>\n",
       "      <th>2018</th>\n",
       "      <td>100.0</td>\n",
       "      <td>10.0</td>\n",
       "      <td>4.0</td>\n",
       "      <td>100.0</td>\n",
       "      <td>1.0</td>\n",
       "      <td>1.0</td>\n",
       "      <td>0.0</td>\n",
       "      <td>0.0</td>\n",
       "      <td>0.0</td>\n",
       "      <td>0.0</td>\n",
       "      <td>0.0</td>\n",
       "    </tr>\n",
       "    <tr>\n",
       "      <th>2019</th>\n",
       "      <td>120.0</td>\n",
       "      <td>11.0</td>\n",
       "      <td>4.0</td>\n",
       "      <td>100.0</td>\n",
       "      <td>21.0</td>\n",
       "      <td>20.0</td>\n",
       "      <td>121.0</td>\n",
       "      <td>20.0</td>\n",
       "      <td>0.0</td>\n",
       "      <td>14.0</td>\n",
       "      <td>135.0</td>\n",
       "    </tr>\n",
       "    <tr>\n",
       "      <th>2020</th>\n",
       "      <td>150.0</td>\n",
       "      <td>12.0</td>\n",
       "      <td>4.0</td>\n",
       "      <td>100.0</td>\n",
       "      <td>51.0</td>\n",
       "      <td>30.0</td>\n",
       "      <td>151.0</td>\n",
       "      <td>30.0</td>\n",
       "      <td>0.0</td>\n",
       "      <td>15.0</td>\n",
       "      <td>166.0</td>\n",
       "    </tr>\n",
       "    <tr>\n",
       "      <th>2021</th>\n",
       "      <td>190.0</td>\n",
       "      <td>13.0</td>\n",
       "      <td>4.0</td>\n",
       "      <td>100.0</td>\n",
       "      <td>91.0</td>\n",
       "      <td>40.0</td>\n",
       "      <td>191.0</td>\n",
       "      <td>40.0</td>\n",
       "      <td>0.0</td>\n",
       "      <td>16.0</td>\n",
       "      <td>207.0</td>\n",
       "    </tr>\n",
       "  </tbody>\n",
       "</table>\n",
       "</div>"
      ],
      "text/plain": [
       "       LOAN  SECURITIES  CASH  DEPOSIT  BONDS  NEW_LOAN  FUNDING  NEW_BONDS  \\\n",
       "2018  100.0        10.0   4.0    100.0    1.0       1.0      0.0        0.0   \n",
       "2019  120.0        11.0   4.0    100.0   21.0      20.0    121.0       20.0   \n",
       "2020  150.0        12.0   4.0    100.0   51.0      30.0    151.0       30.0   \n",
       "2021  190.0        13.0   4.0    100.0   91.0      40.0    191.0       40.0   \n",
       "\n",
       "      NEW_DEPOSIT  EQUITY  ASSETS  \n",
       "2018          0.0     0.0     0.0  \n",
       "2019          0.0    14.0   135.0  \n",
       "2020          0.0    15.0   166.0  \n",
       "2021          0.0    16.0   207.0  "
      ]
     },
     "execution_count": 6,
     "metadata": {},
     "output_type": "execute_result"
    }
   ],
   "source": [
    "a_model(df)"
   ]
  },
  {
   "cell_type": "markdown",
   "metadata": {
    "slideshow": {
     "slide_type": "slide"
    }
   },
   "source": [
    "# Notice:\n",
    "* The model is run from 2019, in order to take account of the lags\n",
    "* The model is calculated even when the formulas where not in the logical order. \n",
    "* Variables in the model missing from the dataframe are set to 0"
   ]
  },
  {
   "cell_type": "markdown",
   "metadata": {
    "slideshow": {
     "slide_type": "slide"
    }
   },
   "source": [
    "# Now we can make transformations with lagged variables. But there is much more \n",
    "The result from a model run can be used straight in python programs. However **it can be done better**. The **a_model** is not just a calculation function. It is a instance of a class called **model**. \n",
    "\n",
    "To make the life easy for the user the model instance has additional capabilities. It retains a number of useful information regarding the model and the solutions. This makes it a powerful tool for model and result analysis."
   ]
  },
  {
   "cell_type": "markdown",
   "metadata": {
    "slideshow": {
     "slide_type": "slide"
    }
   },
   "source": [
    "# Results and dependencies are properties of the model instance\n",
    "The model instance contains a number data items (python class properties), among other:\n",
    "\n",
    "*  the first and last solution of the model\n",
    "*  the directed graph of which variable contributes to which variable\n",
    "*  all formulas in the model \n",
    "This allows a number of capabilities of which some will be shown in the following."
   ]
  },
  {
   "cell_type": "markdown",
   "metadata": {
    "slideshow": {
     "slide_type": "slide"
    }
   },
   "source": [
    "# Make another experiment \n",
    "First we update some exogenous variables (variables which are only on the right hand side of the model). Then we run the model again. "
   ]
  },
  {
   "cell_type": "code",
   "execution_count": 7,
   "metadata": {},
   "outputs": [
    {
     "name": "stdout",
     "output_type": "stream",
     "text": [
      "Will start calculating: testmodel\n",
      "2019  solved\n",
      "2020  solved\n",
      "2021  solved\n",
      "testmodel calculated \n"
     ]
    },
    {
     "data": {
      "text/html": [
       "<div>\n",
       "<style scoped>\n",
       "    .dataframe tbody tr th:only-of-type {\n",
       "        vertical-align: middle;\n",
       "    }\n",
       "\n",
       "    .dataframe tbody tr th {\n",
       "        vertical-align: top;\n",
       "    }\n",
       "\n",
       "    .dataframe thead th {\n",
       "        text-align: right;\n",
       "    }\n",
       "</style>\n",
       "<table border=\"1\" class=\"dataframe\">\n",
       "  <thead>\n",
       "    <tr style=\"text-align: right;\">\n",
       "      <th></th>\n",
       "      <th>LOAN</th>\n",
       "      <th>SECURITIES</th>\n",
       "      <th>CASH</th>\n",
       "      <th>DEPOSIT</th>\n",
       "      <th>BONDS</th>\n",
       "      <th>NEW_LOAN</th>\n",
       "      <th>NEW_DEPOSIT</th>\n",
       "      <th>FUNDING</th>\n",
       "      <th>NEW_BONDS</th>\n",
       "      <th>EQUITY</th>\n",
       "      <th>ASSETS</th>\n",
       "    </tr>\n",
       "  </thead>\n",
       "  <tbody>\n",
       "    <tr>\n",
       "      <th>2018</th>\n",
       "      <td>100.0</td>\n",
       "      <td>10.0</td>\n",
       "      <td>4.0</td>\n",
       "      <td>100.0</td>\n",
       "      <td>1.0</td>\n",
       "      <td>1.0</td>\n",
       "      <td>1.0</td>\n",
       "      <td>0.0</td>\n",
       "      <td>0.0</td>\n",
       "      <td>0.0</td>\n",
       "      <td>0.0</td>\n",
       "    </tr>\n",
       "    <tr>\n",
       "      <th>2019</th>\n",
       "      <td>140.0</td>\n",
       "      <td>11.0</td>\n",
       "      <td>4.0</td>\n",
       "      <td>130.0</td>\n",
       "      <td>11.0</td>\n",
       "      <td>40.0</td>\n",
       "      <td>30.0</td>\n",
       "      <td>141.0</td>\n",
       "      <td>10.0</td>\n",
       "      <td>14.0</td>\n",
       "      <td>155.0</td>\n",
       "    </tr>\n",
       "    <tr>\n",
       "      <th>2020</th>\n",
       "      <td>190.0</td>\n",
       "      <td>12.0</td>\n",
       "      <td>4.0</td>\n",
       "      <td>150.0</td>\n",
       "      <td>41.0</td>\n",
       "      <td>50.0</td>\n",
       "      <td>20.0</td>\n",
       "      <td>191.0</td>\n",
       "      <td>30.0</td>\n",
       "      <td>15.0</td>\n",
       "      <td>206.0</td>\n",
       "    </tr>\n",
       "    <tr>\n",
       "      <th>2021</th>\n",
       "      <td>270.0</td>\n",
       "      <td>13.0</td>\n",
       "      <td>4.0</td>\n",
       "      <td>200.0</td>\n",
       "      <td>71.0</td>\n",
       "      <td>80.0</td>\n",
       "      <td>50.0</td>\n",
       "      <td>271.0</td>\n",
       "      <td>30.0</td>\n",
       "      <td>16.0</td>\n",
       "      <td>287.0</td>\n",
       "    </tr>\n",
       "  </tbody>\n",
       "</table>\n",
       "</div>"
      ],
      "text/plain": [
       "       LOAN  SECURITIES  CASH  DEPOSIT  BONDS  NEW_LOAN  NEW_DEPOSIT  FUNDING  \\\n",
       "2018  100.0        10.0   4.0    100.0    1.0       1.0          1.0      0.0   \n",
       "2019  140.0        11.0   4.0    130.0   11.0      40.0         30.0    141.0   \n",
       "2020  190.0        12.0   4.0    150.0   41.0      50.0         20.0    191.0   \n",
       "2021  270.0        13.0   4.0    200.0   71.0      80.0         50.0    271.0   \n",
       "\n",
       "      NEW_BONDS  EQUITY  ASSETS  \n",
       "2018        0.0     0.0     0.0  \n",
       "2019       10.0    14.0   155.0  \n",
       "2020       30.0    15.0   206.0  \n",
       "2021       30.0    16.0   287.0  "
      ]
     },
     "execution_count": 7,
     "metadata": {},
     "output_type": "execute_result"
    }
   ],
   "source": [
    "df['NEW_LOAN']= [1,40,50,80]\n",
    "df['NEW_DEPOSIT']= [1,30,20,50]\n",
    "a_model(df)"
   ]
  },
  {
   "cell_type": "markdown",
   "metadata": {
    "slideshow": {
     "slide_type": "slide"
    }
   },
   "source": [
    "# Visualizing \n",
    "Using results stored as properties in the model instance, the results can be compared and visualized. \n",
    "\n",
    "In order to make life easy when using models with consistent and structured variable naming conventions wildcards can be used to select the variables to visualize through ModelFlow. \n",
    "\n",
    "If this is not sufficient the whole suite of Python visualization (as Matplotlib, Seaborn, Plotly) can be used on top of the resulting dataframes. "
   ]
  },
  {
   "cell_type": "markdown",
   "metadata": {
    "scrolled": true,
    "slideshow": {
     "slide_type": "slide"
    }
   },
   "source": [
    "# Plot the last result"
   ]
  },
  {
   "cell_type": "code",
   "execution_count": 8,
   "metadata": {
    "scrolled": true
   },
   "outputs": [
    {
     "data": {
      "image/png": "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\n",
      "text/plain": [
       "<Figure size 720x288 with 12 Axes>"
      ]
     },
     "metadata": {},
     "output_type": "display_data"
    }
   ],
   "source": [
    "_ = a_model['*'].plot()"
   ]
  },
  {
   "cell_type": "markdown",
   "metadata": {
    "slideshow": {
     "slide_type": "slide"
    }
   },
   "source": [
    "# Plot the difference between the first and last run "
   ]
  },
  {
   "cell_type": "code",
   "execution_count": 9,
   "metadata": {},
   "outputs": [
    {
     "data": {
      "image/png": "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\n",
      "text/plain": [
       "<Figure size 720x288 with 12 Axes>"
      ]
     },
     "metadata": {},
     "output_type": "display_data"
    }
   ],
   "source": [
    "_ = a_model['*'].dif.plot()"
   ]
  },
  {
   "cell_type": "markdown",
   "metadata": {
    "slideshow": {
     "slide_type": "slide"
    }
   },
   "source": [
    "# Or as heatmap "
   ]
  },
  {
   "cell_type": "code",
   "execution_count": 10,
   "metadata": {},
   "outputs": [
    {
     "data": {
      "image/png": "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\n",
      "text/plain": [
       "<Figure size 841.68x595.44 with 2 Axes>"
      ]
     },
     "metadata": {},
     "output_type": "display_data"
    }
   ],
   "source": [
    "_ = a_model['*'].dif.heat(title='All',annot=True)"
   ]
  },
  {
   "cell_type": "markdown",
   "metadata": {
    "slideshow": {
     "slide_type": "slide"
    }
   },
   "source": [
    "# The stucture of the model (dependency graph)"
   ]
  },
  {
   "cell_type": "code",
   "execution_count": 11,
   "metadata": {},
   "outputs": [
    {
     "data": {
      "image/png": "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
