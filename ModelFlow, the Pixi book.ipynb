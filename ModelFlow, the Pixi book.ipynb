{
 "cells": [
  {
   "cell_type": "markdown",
   "metadata": {
    "slideshow": {
     "slide_type": "slide"
    }
   },
   "source": [
    "This notebook  can be shown as a Rise slideshow. Press the Rise tool on the tool-line\n",
    "\n",
    "Show next slide by **space**\n",
    "    \n",
    "Show previous slide be **shift space**\n",
    "    \n",
    "    \n",
    "Execute a cell by **shift enter**   "
   ]
  },
  {
   "cell_type": "markdown",
   "metadata": {
    "slideshow": {
     "slide_type": "slide"
    }
   },
   "source": [
    "# Python \n",
    "Python is an incredible and versatile language embedded a powerful ecosystem. For data\n",
    "science \n",
    "the Pandas library is a powerful \"Swiss Army Knife\".\n",
    "\n",
    "However in economic and for modeling banks we need to be able to include **lagged variables**\n",
    "in transformation and to handle **simultaneous formulas** (circular references in Excel speak). "
   ]
  },
  {
   "cell_type": "markdown",
   "metadata": {
    "slideshow": {
     "slide_type": "subslide"
    }
   },
   "source": [
    "**ModelFlow** is a toolkit to enable such features - and much more.\n",
    "\n",
    "This is a Jupyter notebook. Jupyter is a Python Shell \n",
    "\n",
    "You will notice **input cells** (marked:In\\[\\]) and **output cells** (marked: Out\\[\\]) \n",
    "\n",
    "It is live, so you can try it out yourself, if you have access to the\n",
    "ModelFlow toolkit, else you just have to watch.\n",
    "\n",
    "This Jupyter notebook will take you to a tour of how make models with lagged variables in\n",
    "ModelFlow. \n",
    "\n",
    "The notebook focus on a simple example and do not explore all the features and\n",
    "options. Also the models are toy models created to be small but still illustrative."
   ]
  },
  {
   "cell_type": "markdown",
   "metadata": {
    "slideshow": {
     "slide_type": "slide"
    }
   },
   "source": [
    "# Import stuff"
   ]
  },
  {
   "cell_type": "code",
   "execution_count": null,
   "metadata": {
    "slideshow": {
     "slide_type": "-"
    }
   },
   "outputs": [],
   "source": [
    "import pandas as pd               # Python data science library\n",
    "        \n",
    "import sys                       \n",
    "sys.path.append('modelflow/')      # pont to the ModelFlow library \n",
    "\n",
    "from modelclass import model      # modelclass from ModelFlow "
   ]
  },
  {
   "cell_type": "markdown",
   "metadata": {
    "slideshow": {
     "slide_type": "slide"
    }
   },
   "source": [
    "# Create a Pandas Dataframe\n",
    "We make up some data.\n",
    "\n",
    "Pandas dataframes are tables with **row** and **column** names. Columns are variables, and rows are the time dimension. "
   ]
  },
  {
   "cell_type": "code",
   "execution_count": null,
   "metadata": {
    "slideshow": {
     "slide_type": "-"
    }
   },
   "outputs": [],
   "source": [
    "df = pd.DataFrame({'LOAN': [100,100,100,100],'SECURITIES':[10,11,12,13],\n",
    "                   'CASH':[4,4,4,4],'DEPOSIT': [100,100,100,100],\n",
    "                   'BONDS':[1,2,3,4],'NEW_LOAN':[1,20,30,40] },\n",
    "                  index=[2018,2019,2020,2021])\n",
    "df"
   ]
  },
  {
   "cell_type": "markdown",
   "metadata": {
    "slideshow": {
     "slide_type": "slide"
    }
   },
   "source": [
    "# A simple model. Pandas works fine. \n",
    "The pandas dataframe contains a fast and powerful evaluation method. It will do the transformation on\n",
    "based on columns."
   ]
  },
  {
   "cell_type": "code",
   "execution_count": null,
   "metadata": {
    "slideshow": {
     "slide_type": "fragment"
    }
   },
   "outputs": [],
   "source": [
    "df.eval('''\\\n",
    "ASSETS  = LOAN + SECURITIES + CASH\n",
    "FUNDING = DEPOSIT + BONDS\n",
    "EQUITY  = ASSETS - FUNDING ''')"
   ]
  },
  {
   "cell_type": "markdown",
   "metadata": {
    "slideshow": {
     "slide_type": "subslide"
    }
   },
   "source": [
    "# Notice\n",
    "The eval method will calculate each column in one go for all years. This allows it to use vectorization in order to speed up the calculations. \n",
    "\n",
    "However, if we want to make dynamic transformation with lagged variables, we need to calculate each year for all variables and step on the to the next year. \n",
    "\n",
    "Lets take a look. "
   ]
  },
  {
   "cell_type": "markdown",
   "metadata": {
    "slideshow": {
     "slide_type": "slide"
    }
   },
   "source": [
    "# Now a model, where Pandas don't work out of the box \n",
    "We want to introduce a little more dynamic in the model. So we introduce three flows: NEW_LOAN, NEW_DEPOSITS and NEW_BONDS\n",
    "\n",
    "-  NEW_LOAN is added to  LOAN from last year\n",
    "\n",
    "-  NEW_DEPOSITS is added to DEPOSITS from last year\n",
    "\n",
    "-  NEW_BONDS funds new loans not funded by new deposits.\n"
   ]
  },
  {
   "cell_type": "code",
   "execution_count": null,
   "metadata": {
    "slideshow": {
     "slide_type": "subslide"
    }
   },
   "outputs": [],
   "source": [
    "fmodel = '''\\\n",
    "ASSETS  = LOAN + SECURITIES + CASH\n",
    "FUNDING = DEPOSIT + BONDS\n",
    "EQUITY  = ASSETS - FUNDING  \n",
    "\n",
    "DEPOSIT = DEPOSIT(-1) + NEW_DEPOSIT\n",
    "LOAN = LOAN(-1)+  NEW_LOAN \n",
    "NEW_BONDS =  (NEW_LOAN - NEW_DEPOSIT) \n",
    "BONDS = BONDS(-1) + NEW_BONDS'''"
   ]
  },
  {
   "cell_type": "markdown",
   "metadata": {
    "slideshow": {
     "slide_type": "slide"
    }
   },
   "source": [
    "   \n",
    "To  implement this model, the build-in function **eval** is not suited, as we can't calculate row by row. \n",
    "\n",
    "So we use ModelFlow to create a model instance which can calculate the model. ModelFlow contains a factory called **model** which will create an function (actually a class instance, more on that later), which then can calculate the model.      "
   ]
  },
  {
   "cell_type": "code",
   "execution_count": null,
   "metadata": {
    "slideshow": {
     "slide_type": "fragment"
    }
   },
   "outputs": [],
   "source": [
    "a_model =model(fmodel)"
   ]
  },
  {
   "cell_type": "markdown",
   "metadata": {
    "slideshow": {
     "slide_type": "slide"
    }
   },
   "source": [
    "# And run an experiment\n",
    "Now we can apply the function to the dataframe, and gets the results."
   ]
  },
  {
   "cell_type": "code",
   "execution_count": null,
   "metadata": {
    "scrolled": true
   },
   "outputs": [],
   "source": [
    "a_model(df)"
   ]
  },
  {
   "cell_type": "markdown",
   "metadata": {
    "slideshow": {
     "slide_type": "slide"
    }
   },
   "source": [
    "# Notice:\n",
    "* The model is run from 2019, in order to take account of the lags\n",
    "* The model is calculated even when the formulas where not in the logical order. \n",
    "* Variables in the model missing from the dataframe are set to 0"
   ]
  },
  {
   "cell_type": "markdown",
   "metadata": {
    "slideshow": {
     "slide_type": "slide"
    }
   },
   "source": [
    "# Now we can make transformations with lagged variables. But there is much more \n",
    "The result from a model run can be used straight in python programs. However **it can be done better**. The **a_model** is not just a calculation function. It is a instance of a class called **model**. \n",
    "\n",
    "To make the life easy for the user the model instance has additional capabilities. It retains a number of useful information regarding the model and the solutions. This makes it a powerful tool for model and result analysis."
   ]
  },
  {
   "cell_type": "markdown",
   "metadata": {
    "slideshow": {
     "slide_type": "slide"
    }
   },
   "source": [
    "# Results and dependencies are properties of the model instance\n",
    "The model instance contains a number data items (python class properties), among other:\n",
    "\n",
    "*  the first and last solution of the model\n",
    "*  the directed graph of which variable contributes to which variable\n",
    "*  all formulas in the model \n",
    "This allows a number of capabilities of which some will be shown in the following."
   ]
  },
  {
   "cell_type": "markdown",
   "metadata": {
    "slideshow": {
     "slide_type": "slide"
    }
   },
   "source": [
    "# Make another experiment \n",
    "First we update some exogenous variables (variables which are only on the right hand side of the model). Then we run the model again. "
   ]
  },
  {
   "cell_type": "code",
   "execution_count": null,
   "metadata": {},
   "outputs": [],
   "source": [
    "df['NEW_LOAN']= [1,40,50,80]\n",
    "df['NEW_DEPOSIT']= [1,30,20,50]\n",
    "a_model(df)"
   ]
  },
  {
   "cell_type": "markdown",
   "metadata": {
    "slideshow": {
     "slide_type": "slide"
    }
   },
   "source": [
    "# Visualizing \n",
    "Using results stored as properties in the model instance, the results can be compared and visualized. \n",
    "\n",
    "In order to make life easy when using models with consistent and structured variable naming conventions wildcards can be used to select the variables to visualize through ModelFlow. \n",
    "\n",
    "If this is not sufficient the whole suite of Python visualization (as Matplotlib, Seaborn, Plotly) can be used on top of the resulting dataframes. "
   ]
  },
  {
   "cell_type": "markdown",
   "metadata": {
    "scrolled": true,
    "slideshow": {
     "slide_type": "slide"
    }
   },
   "source": [
    "# Plot the last result"
   ]
  },
  {
   "cell_type": "code",
   "execution_count": null,
   "metadata": {
    "scrolled": true
   },
   "outputs": [],
   "source": [
    "_ = a_model['*'].plot()"
   ]
  },
  {
   "cell_type": "markdown",
   "metadata": {
    "slideshow": {
     "slide_type": "slide"
    }
   },
   "source": [
    "# Plot the difference between the first and last run "
   ]
  },
  {
   "cell_type": "code",
   "execution_count": null,
   "metadata": {},
   "outputs": [],
   "source": [
    "_ = a_model['*'].dif.plot()"
   ]
  },
  {
   "cell_type": "markdown",
   "metadata": {
    "slideshow": {
     "slide_type": "slide"
    }
   },
   "source": [
    "# Or as heatmap "
   ]
  },
  {
   "cell_type": "code",
   "execution_count": null,
   "metadata": {},
   "outputs": [],
   "source": [
    "_ = a_model['*'].dif.heat(title='All',annot=True)"
   ]
  },
  {
   "cell_type": "markdown",
   "metadata": {
    "slideshow": {
     "slide_type": "slide"
    }
   },
   "source": [
    "# The stucture of the model (dependency graph)"
   ]
  },
  {
   "cell_type": "code",
   "execution_count": null,
   "metadata": {},
   "outputs": [],
   "source": [
    "a_model.drawmodel()"
   ]
  },
  {
   "cell_type": "code",
   "execution_count": null,
   "metadata": {
    "scrolled": false,
    "slideshow": {
     "slide_type": "subslide"
    }
   },
   "outputs": [],
   "source": [
    "a_model.drawmodel(all=1,pdf=1) "
   ]
  },
  {
   "cell_type": "markdown",
   "metadata": {
    "slideshow": {
     "slide_type": "slide"
    }
   },
   "source": [
    "# What explains the difference for a variable \n",
    "Which of the input variables explains the difference of the results of a formula between two runs."
   ]
  },
  {
   "cell_type": "markdown",
   "metadata": {
    "slideshow": {
     "slide_type": "subslide"
    }
   },
   "source": [
    "If we have:\n",
    "\n",
    "$y = f(a,b)$\n",
    "\n",
    "and we have two solutions where the variables differs by $\\Delta y, \\Delta a, \\Delta b$\n",
    "\n",
    "How much of $\\Delta y$ can be explained by $\\Delta a$ and $\\Delta b$ ?\n",
    "\n",
    "Analytical the attributions $\\Omega a$ and $\\Omega b$ can  be calculated like this: \n",
    "\n",
    "$\\Delta y = \\underbrace{\\Delta a \\frac{\\partial {f}}{\\partial{a}}(a,b)}_{\\Omega a} + \n",
    "\\underbrace{\\Delta b \\frac{\\partial {f}}{\\partial{b}}(a,b)}_{\\Omega b}+Residual$"
   ]
  },
  {
   "cell_type": "markdown",
   "metadata": {
    "slideshow": {
     "slide_type": "subslide"
    }
   },
   "source": [
    "If we have two experiments:\n",
    "\n",
    "\\begin{eqnarray}  \n",
    "y_0&=&𝑓(a_{0},b_{0}) \\\\\n",
    "y_1&=&𝑓(a_0+\\Delta a,b_{0}+ \\Delta b)\n",
    "\\end{eqnarray}\n",
    "\n",
    "ModelFlow will do a numerical approximation of $\\Omega a$ and $\\Omega b$.\n",
    "\n",
    "\\begin{eqnarray}  \n",
    "\\Omega f_a&=&f(a_1,b_1 )-f(a_1-\\Delta a,b_1) \\\\\n",
    "\\Omega f_b&=&f(a_1,b_1 )-f(a_1,b_1-\\Delta  b)\n",
    "\\end{eqnarray}\n",
    "\n",
    "\n",
    "\n",
    "If the model is fairly linear, the residual will be small. \n",
    "\n",
    "\\begin{eqnarray}\n",
    "residual = \\Omega f_a + \\Omega f_b -(y_1 - y_0) \n",
    "\\end{eqnarray}"
   ]
  },
  {
   "cell_type": "markdown",
   "metadata": {},
   "source": [
    "Now look at generations of attributions "
   ]
  },
  {
   "cell_type": "code",
   "execution_count": null,
   "metadata": {
    "slideshow": {
     "slide_type": "slide"
    }
   },
   "outputs": [],
   "source": [
    "_=a_model.FUNDING.explain(up=2,HR=0,pdf=0)"
   ]
  },
  {
   "cell_type": "markdown",
   "metadata": {
    "slideshow": {
     "slide_type": "slide"
    }
   },
   "source": [
    "# Beyond a simpel model\n",
    "\n",
    "This was a simple model. You don't even need a computer to solve it, or you could use Excel to handle the model.  However sometime you want to:\n",
    "\n",
    "* Use a a more rich business logic language\n",
    "* Let variables be matrices or even dataframes \n",
    "* Scale to large model (even millions of equations)\n",
    "* Handle simultaneous models\n",
    "* Make identical models for a lot of banks/sectors or whatever\n",
    "* Solve models fast  \n",
    "* Grab a model from Matlab/Dynare\n",
    "* Grab a model from Excel \n",
    "* Grab a model from Latex\n",
    "* Attribute difference between scenarios to individual variables or groups of variables.\n",
    "* Speed up the model by compiling the model \n",
    "* Invert the model to solve for targets as function of instruments.\n",
    "* Linearize the model using symbolic differentiation \n",
    "* Calculate stability of a linearized model. \n",
    "\n",
    "Then dig deeper into ModelFlow. "
   ]
  },
  {
   "cell_type": "markdown",
   "metadata": {
    "slideshow": {
     "slide_type": "slide"
    }
   },
   "source": [
    "# The core of ModelFlow\n",
    "Is to take a model like this: "
   ]
  },
  {
   "cell_type": "code",
   "execution_count": null,
   "metadata": {},
   "outputs": [],
   "source": [
    "print(a_model.equations)"
   ]
  },
  {
   "cell_type": "markdown",
   "metadata": {
    "slideshow": {
     "slide_type": "slide"
    }
   },
   "source": [
    "And transform it to\n",
    "this python function, which will calculate the results: "
   ]
  },
  {
   "cell_type": "code",
   "execution_count": null,
   "metadata": {
    "slideshow": {
     "slide_type": "subslide"
    }
   },
   "outputs": [],
   "source": [
    "print(a_model.make_los_text)"
   ]
  },
  {
   "cell_type": "markdown",
   "metadata": {},
   "source": [
    "This is all done in the ModelFlow.model class and the user most probably will never be aware of the function above. "
   ]
  }
 ],
 "metadata": {
  "kernelspec": {
   "display_name": "Python 3",
   "language": "python",
   "name": "python3"
  },
  "language_info": {
   "codemirror_mode": {
    "name": "ipython",
    "version": 3
   },
   "file_extension": ".py",
   "mimetype": "text/x-python",
   "name": "python",
   "nbconvert_exporter": "python",
   "pygments_lexer": "ipython3",
   "version": "3.6.4"
  },
  "toc": {
   "base_numbering": 1,
   "nav_menu": {},
   "number_sections": true,
   "sideBar": true,
   "skip_h1_title": false,
   "title_cell": "Table of Contents",
   "title_sidebar": "Contents",
   "toc_cell": false,
   "toc_position": {
    "height": "calc(100% - 180px)",
    "left": "10px",
    "top": "150px",
    "width": "284px"
   },
   "toc_section_display": true,
   "toc_window_display": false
  },
  "varInspector": {
   "cols": {
    "lenName": 16,
    "lenType": 16,
    "lenVar": 40
   },
   "kernels_config": {
    "python": {
     "delete_cmd_postfix": "",
     "delete_cmd_prefix": "del ",
     "library": "var_list.py",
     "varRefreshCmd": "print(var_dic_list())"
    },
    "r": {
     "delete_cmd_postfix": ") ",
     "delete_cmd_prefix": "rm(",
     "library": "var_list.r",
     "varRefreshCmd": "cat(var_dic_list()) "
    }
   },
   "types_to_exclude": [
    "module",
    "function",
    "builtin_function_or_method",
    "instance",
    "_Feature"
   ],
   "window_display": true
  }
 },
 "nbformat": 4,
 "nbformat_minor": 1
}
